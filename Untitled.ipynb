{
 "cells": [
  {
   "cell_type": "code",
   "execution_count": 119,
   "metadata": {
    "collapsed": true
   },
   "outputs": [],
   "source": [
    "import numpy as np\n",
    "import pandas as pd"
   ]
  },
  {
   "cell_type": "code",
   "execution_count": 1,
   "metadata": {},
   "outputs": [
    {
     "name": "stdout",
     "output_type": "stream",
     "text": [
      "Collecting PyPDF2\n",
      "  Downloading PyPDF2-1.26.0.tar.gz (77kB)\n",
      "\u001b[K    100% |████████████████████████████████| 81kB 204kB/s ta 0:00:01\n",
      "\u001b[?25hBuilding wheels for collected packages: PyPDF2\n",
      "  Running setup.py bdist_wheel for PyPDF2 ... \u001b[?25ldone\n",
      "\u001b[?25h  Stored in directory: /home/gerson/.cache/pip/wheels/86/6a/6a/1ce004a5996894d33d93e1fb1b67c30973dc945cc5875a1dd0\n",
      "Successfully built PyPDF2\n",
      "Installing collected packages: PyPDF2\n",
      "Successfully installed PyPDF2-1.26.0\n"
     ]
    }
   ],
   "source": [
    "#install pyDF2\n",
    "!pip install PyPDF2"
   ]
  },
  {
   "cell_type": "code",
   "execution_count": 2,
   "metadata": {
    "collapsed": true
   },
   "outputs": [],
   "source": [
    "# importing all the required modules\n",
    "import PyPDF2"
   ]
  },
  {
   "cell_type": "code",
   "execution_count": 3,
   "metadata": {
    "collapsed": true
   },
   "outputs": [],
   "source": [
    "# creating an object \n",
    "file = open('notas.pdf', 'rb')"
   ]
  },
  {
   "cell_type": "code",
   "execution_count": 4,
   "metadata": {
    "collapsed": true
   },
   "outputs": [],
   "source": [
    "# creating a pdf reader object\n",
    "fileReader = PyPDF2.PdfFileReader(file)"
   ]
  },
  {
   "cell_type": "code",
   "execution_count": 8,
   "metadata": {},
   "outputs": [
    {
     "name": "stdout",
     "output_type": "stream",
     "text": [
      "<PyPDF2.pdf.PdfFileReader object at 0x7ff34a267a58>\n"
     ]
    }
   ],
   "source": [
    "# print the number of pages in pdf file\n",
    "print(fileReader)"
   ]
  },
  {
   "cell_type": "code",
   "execution_count": 10,
   "metadata": {},
   "outputs": [],
   "source": [
    "pagina = fileReader.getPage(0)"
   ]
  },
  {
   "cell_type": "code",
   "execution_count": 22,
   "metadata": {},
   "outputs": [],
   "source": [
    "texto_pagina=pagina.extractText()\n",
    "#print(texto_pagina)\n",
    "\n",
    "# Obteniendo el cuerpo\n",
    "# separando la cabecera\n",
    "body = texto_pagina.split(\"viernes 16 de  febrero 2018\",1)\n",
    "body = body[1]\n",
    "body = body.split(\"OCAD-UNI\")\n",
    "final_body = body[0]"
   ]
  },
  {
   "cell_type": "code",
   "execution_count": 122,
   "metadata": {},
   "outputs": [
    {
     "data": {
      "text/plain": [
       "'ABANTO ARRIOLA STEPHANIE GIOVANA446,08075,000 521,080 151897DG2-252ABANTO OCMIN MARTIN GUILLERMO210,5201,000 211,520 230346D*A2-239ABARCA TINEO EDGAR JUNIOR559,720240,000 799,720 341901FI7-202ABARCA VILLANUEVA PILAR MAURA183,480174,000 357,480 441032GA2-239ABATE DOMINGUEZ JOEL SMITH342,120180,000 522,120 562514FG2-332ABERGA BELLIDO GIAN PIERO265,08027,000 292,080 642154HQ1-207ABREGO CRUZ LUIS MIGUEL297,400363,000 660,400 741919FA2-239ABREGO HILARIO SAMANTA LEA312,60084,000 396,600 850048GC1-228ABREGO YUCRA JENNIFER MARITZA505,840312,000 817,840 940263FG2-252ABREGU CHILQUILLO AILTON ALEX429,680351,000 780,680 1081001KG2-252ABURTO RAMÍREZ ALEXANDER MANUEL506,520399,000 905,520 1141613KC1-228ACASIETE ARIAS ERNESTO ANIBAL432,24012,000 444,240 1242077FD2-321ACERO CARRION JULIO MIGUEL522,120249,000 771,120 1340022AH4-225ACERO RODRIGUEZ SHIRLEY MERCY578,600267,000 845,600 1410484KG2-272ACEVEDO AGUERO GIAN POOL460,960282,000 742,960 1581002KR1-411ACEVEDO CALLE GUILLERMO411,52018,000 429,520 1641291JD2-361ACEVEDO GAGO LIZ PATRICH ANKY395,360135,000 530,360 1732348GI7-103ACHA CONDORI ERIKA VALERIA506,840291,000 797,840 1858006FG2-252ACHALMA GALINDO MARIO FERNANDO426,320450,000 876,320 1920751EQ1-201ACHAYA SURCO HENRY LUIS359,200297,000 656,200 2020642CA2-252ACHONG BONILLA JORGE GUILLERMO453,720276,000 729,720 2162901JH4-145ACORI VALLES JORGE LUIS285,32060,000 345,320 2230085FQ1-201ACOSTA CASIQUE LUIS FERNANDO JUNIOR481,480180,000 661,480 2362833GQ1-206ACOSTA CHAPOÑAN MARIA BENEDICTA526,400384,000 910,400 2430263EA2-239ACOSTA CORREA ANGEL BRYAN488,480276,000 764,480 2531787FIO-301ACOSTA GIRALDEZ ARON JUNIOR282,920312,000 594,920 2660391BC1-228ACOSTA JULCA DONNA MARIA MERCEDES479,640165,000 644,640 2710089BQ1-201ACOSTA MEZA CRISTHIAN FAUSTO423,440324,000 747,440 2820388GQ1-201ACOSTA SULCA ALEX CRISTIAN389,400357,000 746,400 2930258DQ1-201ACOSTA TINGAL JOHAN LEONARDO410,760141,000 551,760 3032391CH4-145ACUÑA ASENJO JAVIER ALEXANDER462,520345,000 807,520 3130398AIO-301ACUÑA CALDERÓN RYS DAYBID289,600357,000 646,600 3220436BQ1-206ACUÑA ENRIQUEZ JHON387,720390,000 777,720 3340179DD2-361ACUÑA HUERTA YORDI BRAYAN466,120318,000 784,120 3462351AA2-239ACUÑA LLANOS TINO ALEJANDRO437,280144,000 581,280 3562992GQ1-206ACUÑA MEJIA JORGE LUIS366,640366,000 732,640 3631638JH4-225ACUÑA PIMENTEL RAMIRO275,520150,000 425,520 3741795AQ1-206ACUÑA PROLEON JHOJAN ALEJANDRO339,960390,000 729,960 3840896GIO-301ACUÑA SIERRA ISAAC DEREK400,360303,000 703,360 3962886IH4-225ACUÑA VALENCIA YENDI DAYANE452,120369,000 821,120 4060251ED2-361ADAMA FLORES ANTHONY CRISTHOPER454,640180,000 634,640 4120573FG2-302ADUVIRI SONCO MARGA PRINCESA234,08078,000 312,080 4230215FA2-242AGAMA SANTANA HANS WILLIAM360,240204,000 564,240 4362572IA2-242AGAMA SATURNO JOSEP KASELLY472,560366,000 838,560 4431972EQ1-201AGAPITO CUETO ANGEL DAVID378,760201,000 579,760 4530251BG2-262AGAPITO RODRIGUEZ JESUS ALBERTO435,760129,000 564,760 4662771JA2-269AGESTO FLORES QUEVIN236,7206,000 242,720 4720011AIO-301AGREDA FUNG LEONARDO ANDRÉ322,44045,000 367,440 4832313CG2-332AGUADO GUTIERREZ GERSON ALBERTO516,520312,000 828,520 4920061JH4-225AGUADO MONTALVAN AILTON DENYS421,920504,000 925,920 5020491AQ1-206AGUADO PAYANO GUILLERMO JOEL334,720246,000 580,720 5162690JI7-101AGUERO ARANGO ROGGERS CHRISTOPHER345,520258,000 603,520 5220230JH4-225AGUI ALVARADO JHOJAN KENNEDY249,08045,000 294,080 5341785HC1-228AGUILAR ACOSTA JESUS ORLANDO254,440108,000 362,440 5462472FG2-262AGUILAR ALDANA MARTÍN ANGEL485,400426,000 911,400 5520520DA2-242'"
      ]
     },
     "execution_count": 122,
     "metadata": {},
     "output_type": "execute_result"
    }
   ],
   "source": [
    "final_body"
   ]
  },
  {
   "cell_type": "code",
   "execution_count": 123,
   "metadata": {},
   "outputs": [],
   "source": [
    "#final_body\n",
    "import re\n",
    "\n",
    "d = r'([A-Z][0-9]|O)-([0-9][0-9][0-9])'\n",
    "l = re.compile(d).split(final_body)\n",
    "#len(l)"
   ]
  },
  {
   "cell_type": "code",
   "execution_count": 132,
   "metadata": {},
   "outputs": [
    {
     "data": {
      "text/plain": [
       "[{'name': 'ABANTO ARRIOLA STEPHANIE GIOVANA',\n",
       "  'nota1': 446.08,\n",
       "  'nota2': 75.0,\n",
       "  'sumNotas': 521.08},\n",
       " {'name': 'ABANTO OCMIN MARTIN GUILLERMO',\n",
       "  'nota1': 210.52,\n",
       "  'nota2': 1.0,\n",
       "  'sumNotas': 211.52},\n",
       " {'name': 'ABARCA TINEO EDGAR JUNIOR',\n",
       "  'nota1': 559.72,\n",
       "  'nota2': 240.0,\n",
       "  'sumNotas': 799.72},\n",
       " {'name': 'ABARCA VILLANUEVA PILAR MAURA',\n",
       "  'nota1': 183.48,\n",
       "  'nota2': 174.0,\n",
       "  'sumNotas': 357.48},\n",
       " {'name': 'ABATE DOMINGUEZ JOEL SMITH',\n",
       "  'nota1': 342.12,\n",
       "  'nota2': 180.0,\n",
       "  'sumNotas': 522.12},\n",
       " {'name': 'ABERGA BELLIDO GIAN PIERO',\n",
       "  'nota1': 265.08,\n",
       "  'nota2': 27.0,\n",
       "  'sumNotas': 292.08},\n",
       " {'name': 'ABREGO CRUZ LUIS MIGUEL',\n",
       "  'nota1': 297.4,\n",
       "  'nota2': 363.0,\n",
       "  'sumNotas': 660.4},\n",
       " {'name': 'ABREGO HILARIO SAMANTA LEA',\n",
       "  'nota1': 312.6,\n",
       "  'nota2': 84.0,\n",
       "  'sumNotas': 396.6},\n",
       " {'name': 'ABREGO YUCRA JENNIFER MARITZA',\n",
       "  'nota1': 505.84,\n",
       "  'nota2': 312.0,\n",
       "  'sumNotas': 817.84},\n",
       " {'name': 'ABREGU CHILQUILLO AILTON ALEX',\n",
       "  'nota1': 429.68,\n",
       "  'nota2': 351.0,\n",
       "  'sumNotas': 780.68},\n",
       " {'name': 'ABURTO RAMÍREZ ALEXANDER MANUEL',\n",
       "  'nota1': 506.52,\n",
       "  'nota2': 399.0,\n",
       "  'sumNotas': 905.52},\n",
       " {'name': 'ACASIETE ARIAS ERNESTO ANIBAL',\n",
       "  'nota1': 432.24,\n",
       "  'nota2': 12.0,\n",
       "  'sumNotas': 444.24},\n",
       " {'name': 'ACERO CARRION JULIO MIGUEL',\n",
       "  'nota1': 522.12,\n",
       "  'nota2': 249.0,\n",
       "  'sumNotas': 771.12},\n",
       " {'name': 'ACERO RODRIGUEZ SHIRLEY MERCY',\n",
       "  'nota1': 578.6,\n",
       "  'nota2': 267.0,\n",
       "  'sumNotas': 845.6},\n",
       " {'name': 'ACEVEDO AGUERO GIAN POOL',\n",
       "  'nota1': 460.96,\n",
       "  'nota2': 282.0,\n",
       "  'sumNotas': 742.96},\n",
       " {'name': 'ACEVEDO CALLE GUILLERMO',\n",
       "  'nota1': 411.52,\n",
       "  'nota2': 18.0,\n",
       "  'sumNotas': 429.52},\n",
       " {'name': 'ACEVEDO GAGO LIZ PATRICH ANKY',\n",
       "  'nota1': 395.36,\n",
       "  'nota2': 135.0,\n",
       "  'sumNotas': 530.36},\n",
       " {'name': 'ACHA CONDORI ERIKA VALERIA',\n",
       "  'nota1': 506.84,\n",
       "  'nota2': 291.0,\n",
       "  'sumNotas': 797.84},\n",
       " {'name': 'ACHALMA GALINDO MARIO FERNANDO',\n",
       "  'nota1': 426.32,\n",
       "  'nota2': 450.0,\n",
       "  'sumNotas': 876.32},\n",
       " {'name': 'ACHAYA SURCO HENRY LUIS',\n",
       "  'nota1': 359.2,\n",
       "  'nota2': 297.0,\n",
       "  'sumNotas': 656.2},\n",
       " {'name': 'ACHONG BONILLA JORGE GUILLERMO',\n",
       "  'nota1': 453.72,\n",
       "  'nota2': 276.0,\n",
       "  'sumNotas': 729.72},\n",
       " {'name': 'ACORI VALLES JORGE LUIS',\n",
       "  'nota1': 285.32,\n",
       "  'nota2': 60.0,\n",
       "  'sumNotas': 345.32},\n",
       " {'name': 'ACOSTA CASIQUE LUIS FERNANDO JUNIOR',\n",
       "  'nota1': 481.48,\n",
       "  'nota2': 180.0,\n",
       "  'sumNotas': 661.48},\n",
       " {'name': 'ACOSTA CHAPOÑAN MARIA BENEDICTA',\n",
       "  'nota1': 526.4,\n",
       "  'nota2': 384.0,\n",
       "  'sumNotas': 910.4},\n",
       " {'name': 'ACOSTA CORREA ANGEL BRYAN',\n",
       "  'nota1': 488.48,\n",
       "  'nota2': 276.0,\n",
       "  'sumNotas': 764.48},\n",
       " {'name': 'ACOSTA GIRALDEZ ARON JUNIOR',\n",
       "  'nota1': 282.92,\n",
       "  'nota2': 312.0,\n",
       "  'sumNotas': 594.92},\n",
       " {'name': 'ACOSTA JULCA DONNA MARIA MERCEDES',\n",
       "  'nota1': 479.64,\n",
       "  'nota2': 165.0,\n",
       "  'sumNotas': 644.64},\n",
       " {'name': 'ACOSTA MEZA CRISTHIAN FAUSTO',\n",
       "  'nota1': 423.44,\n",
       "  'nota2': 324.0,\n",
       "  'sumNotas': 747.44},\n",
       " {'name': 'ACOSTA SULCA ALEX CRISTIAN',\n",
       "  'nota1': 389.4,\n",
       "  'nota2': 357.0,\n",
       "  'sumNotas': 746.4},\n",
       " {'name': 'ACOSTA TINGAL JOHAN LEONARDO',\n",
       "  'nota1': 410.76,\n",
       "  'nota2': 141.0,\n",
       "  'sumNotas': 551.76},\n",
       " {'name': 'ACUÑA ASENJO JAVIER ALEXANDER',\n",
       "  'nota1': 462.52,\n",
       "  'nota2': 345.0,\n",
       "  'sumNotas': 807.52},\n",
       " {'name': 'ACUÑA CALDERÓN RYS DAYBID',\n",
       "  'nota1': 289.6,\n",
       "  'nota2': 357.0,\n",
       "  'sumNotas': 646.6},\n",
       " {'name': 'ACUÑA ENRIQUEZ JHON',\n",
       "  'nota1': 387.72,\n",
       "  'nota2': 390.0,\n",
       "  'sumNotas': 777.72},\n",
       " {'name': 'ACUÑA HUERTA YORDI BRAYAN',\n",
       "  'nota1': 466.12,\n",
       "  'nota2': 318.0,\n",
       "  'sumNotas': 784.12},\n",
       " {'name': 'ACUÑA LLANOS TINO ALEJANDRO',\n",
       "  'nota1': 437.28,\n",
       "  'nota2': 144.0,\n",
       "  'sumNotas': 581.28},\n",
       " {'name': 'ACUÑA MEJIA JORGE LUIS',\n",
       "  'nota1': 366.64,\n",
       "  'nota2': 366.0,\n",
       "  'sumNotas': 732.64},\n",
       " {'name': 'ACUÑA PIMENTEL RAMIRO',\n",
       "  'nota1': 275.52,\n",
       "  'nota2': 150.0,\n",
       "  'sumNotas': 425.52},\n",
       " {'name': 'ACUÑA PROLEON JHOJAN ALEJANDRO',\n",
       "  'nota1': 339.96,\n",
       "  'nota2': 390.0,\n",
       "  'sumNotas': 729.96},\n",
       " {'name': 'ACUÑA SIERRA ISAAC DEREK',\n",
       "  'nota1': 400.36,\n",
       "  'nota2': 303.0,\n",
       "  'sumNotas': 703.36},\n",
       " {'name': 'ACUÑA VALENCIA YENDI DAYANE',\n",
       "  'nota1': 452.12,\n",
       "  'nota2': 369.0,\n",
       "  'sumNotas': 821.12},\n",
       " {'name': 'ADAMA FLORES ANTHONY CRISTHOPER',\n",
       "  'nota1': 454.64,\n",
       "  'nota2': 180.0,\n",
       "  'sumNotas': 634.64},\n",
       " {'name': 'ADUVIRI SONCO MARGA PRINCESA',\n",
       "  'nota1': 234.08,\n",
       "  'nota2': 78.0,\n",
       "  'sumNotas': 312.08},\n",
       " {'name': 'AGAMA SANTANA HANS WILLIAM',\n",
       "  'nota1': 360.24,\n",
       "  'nota2': 204.0,\n",
       "  'sumNotas': 564.24},\n",
       " {'name': 'AGAMA SATURNO JOSEP KASELLY',\n",
       "  'nota1': 472.56,\n",
       "  'nota2': 366.0,\n",
       "  'sumNotas': 838.56},\n",
       " {'name': 'AGAPITO CUETO ANGEL DAVID',\n",
       "  'nota1': 378.76,\n",
       "  'nota2': 201.0,\n",
       "  'sumNotas': 579.76},\n",
       " {'name': 'AGAPITO RODRIGUEZ JESUS ALBERTO',\n",
       "  'nota1': 435.76,\n",
       "  'nota2': 129.0,\n",
       "  'sumNotas': 564.76},\n",
       " {'name': 'AGESTO FLORES QUEVIN',\n",
       "  'nota1': 236.72,\n",
       "  'nota2': 6.0,\n",
       "  'sumNotas': 242.72},\n",
       " {'name': 'AGREDA FUNG LEONARDO ANDRÉ',\n",
       "  'nota1': 322.44,\n",
       "  'nota2': 45.0,\n",
       "  'sumNotas': 367.44},\n",
       " {'name': 'AGUADO GUTIERREZ GERSON ALBERTO',\n",
       "  'nota1': 516.52,\n",
       "  'nota2': 312.0,\n",
       "  'sumNotas': 828.52},\n",
       " {'name': 'AGUADO MONTALVAN AILTON DENYS',\n",
       "  'nota1': 421.92,\n",
       "  'nota2': 504.0,\n",
       "  'sumNotas': 925.92},\n",
       " {'name': 'AGUADO PAYANO GUILLERMO JOEL',\n",
       "  'nota1': 334.72,\n",
       "  'nota2': 246.0,\n",
       "  'sumNotas': 580.72},\n",
       " {'name': 'AGUERO ARANGO ROGGERS CHRISTOPHER',\n",
       "  'nota1': 345.52,\n",
       "  'nota2': 258.0,\n",
       "  'sumNotas': 603.52},\n",
       " {'name': 'AGUI ALVARADO JHOJAN KENNEDY',\n",
       "  'nota1': 249.08,\n",
       "  'nota2': 45.0,\n",
       "  'sumNotas': 294.08},\n",
       " {'name': 'AGUILAR ACOSTA JESUS ORLANDO',\n",
       "  'nota1': 254.44,\n",
       "  'nota2': 108.0,\n",
       "  'sumNotas': 362.44},\n",
       " {'name': 'AGUILAR ALDANA MARTÍN ANGEL',\n",
       "  'nota1': 485.4,\n",
       "  'nota2': 426.0,\n",
       "  'sumNotas': 911.4}]"
      ]
     },
     "execution_count": 132,
     "metadata": {},
     "output_type": "execute_result"
    }
   ],
   "source": [
    "arrayAlumnos = []\n",
    "for i in range(0,len(l),3):\n",
    "    raw_alumno = l[i]\n",
    "    f = r'([0-9])'\n",
    "    test = re.compile(f).split(raw_alumno,1)\n",
    "    name = test[0]\n",
    "    resto = test[1:]\n",
    "    raw_notas  = ''.join(resto)\n",
    "    #print(raw_notas)\n",
    "    gg = r',([0-9]{3})'\n",
    "    test2 = re.compile(gg).split(raw_notas)\n",
    "    notas = []\n",
    "    for i in range(0,len(test2)-1,2):\n",
    "        dec = test2[i]\n",
    "        cent = test2[i+1]\n",
    "        tota_num = dec + '.' + cent\n",
    "        final_num = float(tota_num)\n",
    "        notas.append(final_num)\n",
    "    # print(notas)\n",
    "    alumno = {}\n",
    "    if len(notas) !=0:\n",
    "        alumno['name'] = name\n",
    "        alumno['nota1'] = notas[0]\n",
    "        alumno['nota2'] = notas[1]\n",
    "        alumno['sumNotas'] = notas[2]\n",
    "        arrayAlumnos.append(alumno)\n",
    "    \n",
    "arrayAlumnos"
   ]
  },
  {
   "cell_type": "code",
   "execution_count": null,
   "metadata": {
    "collapsed": true
   },
   "outputs": [],
   "source": []
  },
  {
   "cell_type": "code",
   "execution_count": null,
   "metadata": {
    "collapsed": true
   },
   "outputs": [],
   "source": []
  }
 ],
 "metadata": {
  "kernelspec": {
   "display_name": "Python 3",
   "language": "python",
   "name": "python3"
  },
  "language_info": {
   "codemirror_mode": {
    "name": "ipython",
    "version": 3
   },
   "file_extension": ".py",
   "mimetype": "text/x-python",
   "name": "python",
   "nbconvert_exporter": "python",
   "pygments_lexer": "ipython3",
   "version": "3.6.3"
  }
 },
 "nbformat": 4,
 "nbformat_minor": 2
}
