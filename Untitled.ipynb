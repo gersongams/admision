{
 "cells": [
  {
   "cell_type": "code",
   "execution_count": 158,
   "metadata": {
    "collapsed": true
   },
   "outputs": [],
   "source": [
    "import numpy as np\n",
    "import pandas as pd\n",
    "import re\n",
    "import matplotlib.pyplot as plt\n"
   ]
  },
  {
   "cell_type": "code",
   "execution_count": 2,
   "metadata": {},
   "outputs": [
    {
     "name": "stdout",
     "output_type": "stream",
     "text": [
      "Collecting PyPDF2\n",
      "  Downloading PyPDF2-1.26.0.tar.gz (77kB)\n",
      "\u001b[K    100% |████████████████████████████████| 81kB 76kB/s ta 0:00:01\n",
      "\u001b[?25hBuilding wheels for collected packages: PyPDF2\n",
      "  Running setup.py bdist_wheel for PyPDF2 ... \u001b[?25ldone\n",
      "\u001b[?25h  Stored in directory: /home/gerson/.cache/pip/wheels/86/6a/6a/1ce004a5996894d33d93e1fb1b67c30973dc945cc5875a1dd0\n",
      "Successfully built PyPDF2\n",
      "Installing collected packages: PyPDF2\n",
      "Successfully installed PyPDF2-1.26.0\n"
     ]
    }
   ],
   "source": [
    "#install pyDF2\n",
    "!pip install PyPDF2"
   ]
  },
  {
   "cell_type": "code",
   "execution_count": 3,
   "metadata": {
    "collapsed": true
   },
   "outputs": [],
   "source": [
    "# importing all the required modules\n",
    "import PyPDF2"
   ]
  },
  {
   "cell_type": "code",
   "execution_count": 4,
   "metadata": {
    "collapsed": true
   },
   "outputs": [],
   "source": [
    "# creating an object \n",
    "file = open('notas.pdf', 'rb')"
   ]
  },
  {
   "cell_type": "code",
   "execution_count": 5,
   "metadata": {
    "collapsed": true
   },
   "outputs": [],
   "source": [
    "# creating a pdf reader object\n",
    "fileReader = PyPDF2.PdfFileReader(file)"
   ]
  },
  {
   "cell_type": "code",
   "execution_count": 6,
   "metadata": {},
   "outputs": [
    {
     "name": "stdout",
     "output_type": "stream",
     "text": [
      "<PyPDF2.pdf.PdfFileReader object at 0x7fe583ef1dd8>\n"
     ]
    }
   ],
   "source": [
    "# print the number of pages in pdf file\n",
    "print(fileReader)"
   ]
  },
  {
   "cell_type": "code",
   "execution_count": 144,
   "metadata": {},
   "outputs": [],
   "source": [
    "nro_paginas = fileReader.getNumPages()\n"
   ]
  },
  {
   "cell_type": "code",
   "execution_count": 151,
   "metadata": {},
   "outputs": [],
   "source": [
    "TOTAL = []\n",
    "for page in range(nro_paginas):\n",
    "    pagina = fileReader.getPage(page)\n",
    "    texto_pagina=pagina.extractText()\n",
    "    #print(texto_pagina)\n",
    "\n",
    "    # Obteniendo el cuerpo\n",
    "    # separando la cabecera\n",
    "    body = texto_pagina.split(\"viernes 16 de  febrero 2018\",1)\n",
    "    body = body[1]\n",
    "    body = body.split(\"OCAD-UNI\")\n",
    "    final_body = body[0]\n",
    "    #final_body\n",
    "\n",
    "    d = r'([A-Z][0-9]|O)-([0-9][0-9][0-9]|[A-Z]|[0-9][0-9][A-Z])'\n",
    "    l = re.compile(d).split(final_body)\n",
    "    #len(l)\n",
    "\n",
    "    arrayAlumnos = []\n",
    "    for i in range(0,len(l),3):\n",
    "        raw_alumno = l[i]\n",
    "        #print(raw_alumno)\n",
    "        f = r'([0-9])|AUSENTE'\n",
    "        test = re.compile(f).split(raw_alumno,1)\n",
    "        name = test[0]\n",
    "        resto = test[1:]\n",
    "        resto = ['AUSENTE' if v is None else v for v in resto]\n",
    "        raw_notas  = ''.join(resto)\n",
    "        gg = r',([0-9]{3})|AUSENTE'\n",
    "        test2 = re.compile(gg).split(raw_notas)\n",
    "        test2 = ['0' if v is None else v for v in test2]\n",
    "        test2 = ['0' if v is '' else v for v in test2]\n",
    "        #print(test2)\n",
    "        notas = []\n",
    "        for i in range(0,len(test2)-1,2):\n",
    "            #print(test2)\n",
    "            dec = test2[i]\n",
    "            cent = test2[i+1]\n",
    "            tota_num = dec + '.' + cent\n",
    "            final_num = float(tota_num)\n",
    "            notas.append(final_num)\n",
    "        # print(notas)\n",
    "        alumno = {}\n",
    "        if len(notas) !=0:\n",
    "            alumno['name'] = name\n",
    "            alumno['nota1'] = notas[0]\n",
    "            alumno['nota2'] = notas[1]\n",
    "            alumno['sumNotas'] = notas[2]\n",
    "            arrayAlumnos.append(alumno)\n",
    "    \n",
    "    TOTAL = TOTAL + arrayAlumnos    "
   ]
  },
  {
   "cell_type": "code",
   "execution_count": 152,
   "metadata": {},
   "outputs": [],
   "source": [
    "#TOTAL"
   ]
  },
  {
   "cell_type": "code",
   "execution_count": 153,
   "metadata": {},
   "outputs": [
    {
     "name": "stdout",
     "output_type": "stream",
     "text": [
      "<class 'pandas.core.frame.DataFrame'>\n",
      "RangeIndex: 6178 entries, 0 to 6177\n",
      "Data columns (total 4 columns):\n",
      "name        6178 non-null object\n",
      "nota1       6178 non-null float64\n",
      "nota2       6178 non-null float64\n",
      "sumNotas    6178 non-null float64\n",
      "dtypes: float64(3), object(1)\n",
      "memory usage: 193.1+ KB\n"
     ]
    }
   ],
   "source": [
    "data_final = pd.DataFrame(TOTAL)\n",
    "data_final.info()"
   ]
  },
  {
   "cell_type": "code",
   "execution_count": 157,
   "metadata": {},
   "outputs": [
    {
     "data": {
      "text/html": [
       "<div>\n",
       "<style>\n",
       "    .dataframe thead tr:only-child th {\n",
       "        text-align: right;\n",
       "    }\n",
       "\n",
       "    .dataframe thead th {\n",
       "        text-align: left;\n",
       "    }\n",
       "\n",
       "    .dataframe tbody tr th {\n",
       "        vertical-align: top;\n",
       "    }\n",
       "</style>\n",
       "<table border=\"1\" class=\"dataframe\">\n",
       "  <thead>\n",
       "    <tr style=\"text-align: right;\">\n",
       "      <th></th>\n",
       "      <th>nota1</th>\n",
       "      <th>nota2</th>\n",
       "      <th>sumNotas</th>\n",
       "      <th>repetition</th>\n",
       "    </tr>\n",
       "  </thead>\n",
       "  <tbody>\n",
       "    <tr>\n",
       "      <th>count</th>\n",
       "      <td>6178.000000</td>\n",
       "      <td>6178.000000</td>\n",
       "      <td>6178.000000</td>\n",
       "      <td>6178.000000</td>\n",
       "    </tr>\n",
       "    <tr>\n",
       "      <th>mean</th>\n",
       "      <td>393.620434</td>\n",
       "      <td>247.399158</td>\n",
       "      <td>641.019592</td>\n",
       "      <td>1.000324</td>\n",
       "    </tr>\n",
       "    <tr>\n",
       "      <th>std</th>\n",
       "      <td>96.861118</td>\n",
       "      <td>131.487138</td>\n",
       "      <td>208.372757</td>\n",
       "      <td>0.017991</td>\n",
       "    </tr>\n",
       "    <tr>\n",
       "      <th>min</th>\n",
       "      <td>0.000000</td>\n",
       "      <td>0.000000</td>\n",
       "      <td>0.000000</td>\n",
       "      <td>1.000000</td>\n",
       "    </tr>\n",
       "    <tr>\n",
       "      <th>25%</th>\n",
       "      <td>338.320000</td>\n",
       "      <td>147.000000</td>\n",
       "      <td>496.700000</td>\n",
       "      <td>1.000000</td>\n",
       "    </tr>\n",
       "    <tr>\n",
       "      <th>50%</th>\n",
       "      <td>402.440000</td>\n",
       "      <td>246.000000</td>\n",
       "      <td>652.220000</td>\n",
       "      <td>1.000000</td>\n",
       "    </tr>\n",
       "    <tr>\n",
       "      <th>75%</th>\n",
       "      <td>460.120000</td>\n",
       "      <td>348.000000</td>\n",
       "      <td>794.390000</td>\n",
       "      <td>1.000000</td>\n",
       "    </tr>\n",
       "    <tr>\n",
       "      <th>max</th>\n",
       "      <td>662.200000</td>\n",
       "      <td>600.000000</td>\n",
       "      <td>1237.640000</td>\n",
       "      <td>2.000000</td>\n",
       "    </tr>\n",
       "  </tbody>\n",
       "</table>\n",
       "</div>"
      ],
      "text/plain": [
       "             nota1        nota2     sumNotas   repetition\n",
       "count  6178.000000  6178.000000  6178.000000  6178.000000\n",
       "mean    393.620434   247.399158   641.019592     1.000324\n",
       "std      96.861118   131.487138   208.372757     0.017991\n",
       "min       0.000000     0.000000     0.000000     1.000000\n",
       "25%     338.320000   147.000000   496.700000     1.000000\n",
       "50%     402.440000   246.000000   652.220000     1.000000\n",
       "75%     460.120000   348.000000   794.390000     1.000000\n",
       "max     662.200000   600.000000  1237.640000     2.000000"
      ]
     },
     "execution_count": 157,
     "metadata": {},
     "output_type": "execute_result"
    }
   ],
   "source": [
    "data_final.describe()"
   ]
  },
  {
   "cell_type": "code",
   "execution_count": 160,
   "metadata": {},
   "outputs": [
    {
     "data": {
      "image/png": "[encoded data removed]",
      "text/plain": [
       "<matplotlib.figure.Figure at 0x7fe573111668>"
      ]
     },
     "metadata": {},
     "output_type": "display_data"
    }
   ],
   "source": [
    "# the histogram of the data\n",
    "plt.hist(data_final['sumNotas'])\n",
    "\n",
    "plt.show()"
   ]
  },
  {
   "cell_type": "code",
   "execution_count": 163,
   "metadata": {},
   "outputs": [
    {
     "data": {
      "text/plain": [
       "name          192\n",
       "nota1         192\n",
       "nota2         192\n",
       "sumNotas      192\n",
       "repetition    192\n",
       "dtype: int64"
      ]
     },
     "execution_count": 163,
     "metadata": {},
     "output_type": "execute_result"
    }
   ],
   "source": [
    "data_final[data_final.sumNotas > 1000].count()"
   ]
  },
  {
   "cell_type": "code",
   "execution_count": 175,
   "metadata": {},
   "outputs": [
    {
     "data": {
      "text/plain": [
       "name          FLORES PONTE LUIS FERNANDO\n",
       "nota1                              662.2\n",
       "nota2                                549\n",
       "sumNotas                          1211.2\n",
       "repetition                             1\n",
       "Name: 2047, dtype: object"
      ]
     },
     "execution_count": 175,
     "metadata": {},
     "output_type": "execute_result"
    }
   ],
   "source": [
    "data_final.ix[data_final['nota1'].idxmax()]"
   ]
  },
  {
   "cell_type": "code",
   "execution_count": 176,
   "metadata": {},
   "outputs": [
    {
     "data": {
      "text/plain": [
       "name          DIONISIO PINEDO ROSA CRISTINA\n",
       "nota1                                260.56\n",
       "nota2                                   600\n",
       "sumNotas                             860.56\n",
       "repetition                                1\n",
       "Name: 1743, dtype: object"
      ]
     },
     "execution_count": 176,
     "metadata": {},
     "output_type": "execute_result"
    }
   ],
   "source": [
    "data_final.ix[data_final['nota2'].idxmax()]"
   ]
  },
  {
   "cell_type": "code",
   "execution_count": 177,
   "metadata": {},
   "outputs": [
    {
     "data": {
      "text/plain": [
       "name          FABIÁN SALINAS ANDRÉS BENJAMÍN\n",
       "nota1                                 637.64\n",
       "nota2                                    600\n",
       "sumNotas                             1237.64\n",
       "repetition                                 1\n",
       "Name: 1906, dtype: object"
      ]
     },
     "execution_count": 177,
     "metadata": {},
     "output_type": "execute_result"
    }
   ],
   "source": [
    "data_final.ix[data_final['sumNotas'].idxmax()]"
   ]
  },
  {
   "cell_type": "code",
   "execution_count": null,
   "metadata": {
    "collapsed": true
   },
   "outputs": [],
   "source": []
  }
 ],
 "metadata": {
  "kernelspec": {
   "display_name": "Python 3",
   "language": "python",
   "name": "python3"
  },
  "language_info": {
   "codemirror_mode": {
    "name": "ipython",
    "version": 3
   },
   "file_extension": ".py",
   "mimetype": "text/x-python",
   "name": "python",
   "nbconvert_exporter": "python",
   "pygments_lexer": "ipython3",
   "version": "3.6.3"
  }
 },
 "nbformat": 4,
 "nbformat_minor": 2
}
